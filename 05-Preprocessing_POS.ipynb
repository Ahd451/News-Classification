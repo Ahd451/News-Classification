{
 "cells": [
  {
   "cell_type": "code",
   "execution_count": 1,
   "id": "f3af3e36",
   "metadata": {},
   "outputs": [],
   "source": [
    "import pandas as pd\n",
    "import nltk\n",
    "from nltk import word_tokenize ,pos_tag\n",
    "from nltk.corpus import stopwords\n",
    "import warnings\n",
    "# Ignore warnings\n",
    "warnings.filterwarnings(\"ignore\")"
   ]
  },
  {
   "cell_type": "code",
   "execution_count": 2,
   "id": "f80ce945",
   "metadata": {},
   "outputs": [],
   "source": [
    "X_train = pd.read_csv ('..\\\\Spliting Data\\\\X_train.csv')['Data']\n",
    "y_train = pd.read_csv ('..\\\\Spliting Data\\\\y_train.csv')['Data']\n",
    "\n",
    "X_test = pd.read_csv  ('..\\\\Spliting Data\\\\X_test.csv')['Data']\n",
    "y_test = pd.read_csv ('..\\\\Spliting Data\\\\y_test.csv')['Data']\n",
    "\n",
    "X_val = pd.read_csv   ('..\\\\Spliting Data\\\\X_val.csv')['Data']\n",
    "y_val = pd.read_csv ('..\\\\Spliting Data\\\\y_val.csv')['Data']"
   ]
  },
  {
   "cell_type": "code",
   "execution_count": 3,
   "id": "23a3f577",
   "metadata": {},
   "outputs": [
    {
     "name": "stdout",
     "output_type": "stream",
     "text": [
      "(269153,)\n",
      "(269153,)\n",
      "-----------------\n",
      "(41502,)\n",
      "(41502,)\n",
      "-----------------\n",
      "(41502,)\n",
      "(41502,)\n"
     ]
    }
   ],
   "source": [
    "print(X_train.shape)\n",
    "print(y_train.shape)\n",
    "print('-----------------')\n",
    "print(X_test.shape)\n",
    "print(y_test.shape)\n",
    "print('-----------------')\n",
    "print(X_val.shape)\n",
    "print(y_val.shape)"
   ]
  },
  {
   "cell_type": "code",
   "execution_count": 4,
   "id": "73ec70ba",
   "metadata": {},
   "outputs": [],
   "source": [
    "stop_words = set(stopwords.words('english'))\n",
    "\n",
    "def preprocess(text):\n",
    "    \n",
    "#     text = text.lower()  # Convert to lowercase\n",
    "    \n",
    "    tokens = nltk.word_tokenize(text)  # Tokenize the text into word tokens\n",
    "    \n",
    "    tokens = [token for token in tokens if token.isalpha()]  # Remove punctuation and numbers\n",
    "    \n",
    "    pos_tags = pos_tag(tokens)\n",
    "    \n",
    "    tags = []\n",
    "    \n",
    "    for token , tag in pos_tags:\n",
    "        if token.lower() not in stop_words:\n",
    "            tags.append (tag)\n",
    "    \n",
    "    return ' '.join(tags)"
   ]
  },
  {
   "cell_type": "code",
   "execution_count": 5,
   "id": "b839bd2b",
   "metadata": {},
   "outputs": [],
   "source": [
    "X_train = [preprocess(text) for text in X_train]"
   ]
  },
  {
   "cell_type": "code",
   "execution_count": 6,
   "id": "b6e88bcf",
   "metadata": {},
   "outputs": [],
   "source": [
    "X_test = [preprocess(text) for text in X_test]"
   ]
  },
  {
   "cell_type": "code",
   "execution_count": 7,
   "id": "6b06e570",
   "metadata": {},
   "outputs": [],
   "source": [
    "X_val = [preprocess(text) for text in X_val]"
   ]
  },
  {
   "cell_type": "code",
   "execution_count": 8,
   "id": "97c6604f",
   "metadata": {},
   "outputs": [],
   "source": [
    "train_dataframe = pd.DataFrame ({'headline': X_train , 'category' :y_train })"
   ]
  },
  {
   "cell_type": "code",
   "execution_count": 9,
   "id": "a48d0e4f",
   "metadata": {},
   "outputs": [],
   "source": [
    "test_dataframe = pd.DataFrame  ({'headline': X_test , 'category' :y_test })"
   ]
  },
  {
   "cell_type": "code",
   "execution_count": 10,
   "id": "d9b98ab5",
   "metadata": {},
   "outputs": [],
   "source": [
    "val_dataframe = pd.DataFrame   ({'headline': X_val , 'category' :y_val })"
   ]
  },
  {
   "cell_type": "code",
   "execution_count": 12,
   "id": "b6313c88",
   "metadata": {},
   "outputs": [],
   "source": [
    "train_dataframe['headline'] = train_dataframe['headline'].str.strip()\n",
    "\n",
    "train_dataframe = train_dataframe[~(train_dataframe['headline'] == '')]"
   ]
  },
  {
   "cell_type": "code",
   "execution_count": 13,
   "id": "f58ff217",
   "metadata": {},
   "outputs": [],
   "source": [
    "test_dataframe['headline'] = test_dataframe['headline'].str.strip()\n",
    "\n",
    "test_dataframe = test_dataframe[~(test_dataframe['headline'] == '')]"
   ]
  },
  {
   "cell_type": "code",
   "execution_count": 14,
   "id": "e2d3495c",
   "metadata": {},
   "outputs": [],
   "source": [
    "val_dataframe['headline'] = val_dataframe['headline'].str.strip()\n",
    "\n",
    "val_dataframe = val_dataframe[~(val_dataframe['headline'] == '')]"
   ]
  },
  {
   "cell_type": "code",
   "execution_count": 15,
   "id": "8d8164fe",
   "metadata": {},
   "outputs": [
    {
     "name": "stdout",
     "output_type": "stream",
     "text": [
      "Number of duplicate headlines in train =  194493\n",
      "Number of duplicate headlines in test  =  29302\n",
      "Number of duplicate headlines in val   =  29450\n"
     ]
    }
   ],
   "source": [
    "print(\"Number of duplicate headlines in train = \", train_dataframe.duplicated(['headline'], keep = 'last').sum())\n",
    "print(\"Number of duplicate headlines in test  = \", test_dataframe.duplicated (['headline'], keep = 'last').sum())\n",
    "print(\"Number of duplicate headlines in val   = \", val_dataframe.duplicated  (['headline'], keep = 'last').sum())"
   ]
  },
  {
   "cell_type": "code",
   "execution_count": 16,
   "id": "fc8e8980",
   "metadata": {},
   "outputs": [],
   "source": [
    "#Removing duplicates\n",
    "#inplace=True: This argument modifies the DataFrame in place, meaning it doesn't\n",
    "#return a new DataFrame but rather changes the original DataFrame (data) directly.\n",
    "\n",
    "train_dataframe.drop_duplicates(['headline'], keep = 'last', inplace = True)\n",
    "# test_dataframe.drop_duplicates (['headline'], keep = 'last', inplace = True)\n",
    "# val_dataframe.drop_duplicates  (['headline'], keep = 'last', inplace = True)"
   ]
  },
  {
   "cell_type": "code",
   "execution_count": 17,
   "id": "aeb72ebf",
   "metadata": {},
   "outputs": [
    {
     "name": "stdout",
     "output_type": "stream",
     "text": [
      "Total number of rows after removing duplicates in train =  74572\n",
      "Total number of rows after removing duplicates in test  =  41464\n",
      "Total number of rows after removing duplicates in val   =  41477\n"
     ]
    }
   ],
   "source": [
    "print(\"Total number of rows after removing duplicates in train = \",train_dataframe.shape[0])\n",
    "print(\"Total number of rows after removing duplicates in test  = \",test_dataframe.shape[0])\n",
    "print(\"Total number of rows after removing duplicates in val   = \",val_dataframe.shape[0])"
   ]
  },
  {
   "cell_type": "code",
   "execution_count": 18,
   "id": "1ef67ad2",
   "metadata": {},
   "outputs": [
    {
     "name": "stdout",
     "output_type": "stream",
     "text": [
      "headline    0\n",
      "category    0\n",
      "dtype: int64\n",
      "headline    0\n",
      "category    0\n",
      "dtype: int64\n",
      "headline    0\n",
      "category    0\n",
      "dtype: int64\n"
     ]
    }
   ],
   "source": [
    "print(train_dataframe.isnull().sum())\n",
    "print(test_dataframe.isnull().sum())\n",
    "print(val_dataframe.isnull().sum())"
   ]
  },
  {
   "cell_type": "code",
   "execution_count": 19,
   "id": "c8c0dd70",
   "metadata": {},
   "outputs": [
    {
     "data": {
      "text/plain": [
       "category\n",
       "OTHER6            7327\n",
       "BUSINESS          6874\n",
       "QUEER VOICES      6447\n",
       "SPORTS            6295\n",
       "FOOD & DRINK      4821\n",
       "OTHER4            4449\n",
       "STYLE & BEAUTY    4413\n",
       "OTHER2            4376\n",
       "TRAVEL            4222\n",
       "OTHER7            4186\n",
       "OTHER1            4149\n",
       "OTHER3            4140\n",
       "OTHER5            3762\n",
       "ENTERTAINMENT     3745\n",
       "WELLNESS          2828\n",
       "POLITICS          2538\n",
       "Name: count, dtype: int64"
      ]
     },
     "execution_count": 19,
     "metadata": {},
     "output_type": "execute_result"
    }
   ],
   "source": [
    "train_dataframe['category'].value_counts()"
   ]
  },
  {
   "cell_type": "code",
   "execution_count": 20,
   "id": "109715ae",
   "metadata": {},
   "outputs": [],
   "source": [
    "X_train = train_dataframe['headline']\n",
    "y_train = train_dataframe['category']\n",
    "\n",
    "X_test =  test_dataframe['headline']\n",
    "y_test =  test_dataframe['category']\n",
    "\n",
    "X_val =  val_dataframe['headline']\n",
    "y_val =  val_dataframe['category']"
   ]
  },
  {
   "cell_type": "code",
   "execution_count": 21,
   "id": "c5b6395a",
   "metadata": {},
   "outputs": [
    {
     "data": {
      "text/plain": [
       "0         NNP NNP VBZ NN NNP NNP NNP NNP NNP VBG RB\n",
       "23                       NNS NNP NNP RB VBG NNP NNP\n",
       "37                                 NNP RB VBN JJ NN\n",
       "43                  IN NNPS NNP NNP NNP NNP NNP NNP\n",
       "53                 JJ NNP NNPS NNP NNP NNPS NNP NNP\n",
       "                            ...                    \n",
       "269147                                  NNP NNP NNP\n",
       "269148                         JJ NN NNP NNP NNP NN\n",
       "269149           NNS NNP NNP NNS NNP NNP JJ NNP NNP\n",
       "269150                      NNP NNP NNP NNS NNP NNP\n",
       "269152                                   NN NNP NNP\n",
       "Name: headline, Length: 74572, dtype: object"
      ]
     },
     "execution_count": 21,
     "metadata": {},
     "output_type": "execute_result"
    }
   ],
   "source": [
    "X_train"
   ]
  },
  {
   "cell_type": "code",
   "execution_count": 22,
   "id": "f8949e55",
   "metadata": {},
   "outputs": [],
   "source": [
    "# Convert the list of strings to a DataFrame\n",
    "df = pd.DataFrame(list(X_train), columns=['Data'])\n",
    "\n",
    "# Specify the CSV file path\n",
    "csv_file_path = \"POS Spliting Data\\\\X_train.csv\"\n",
    "\n",
    "# Write DataFrame to CSV file\n",
    "df.to_csv(csv_file_path, index=False)"
   ]
  },
  {
   "cell_type": "code",
   "execution_count": 23,
   "id": "e05e146c",
   "metadata": {},
   "outputs": [],
   "source": [
    "# Convert the list of strings to a DataFrame\n",
    "df = pd.DataFrame(list(y_train), columns=['Data'])\n",
    "\n",
    "# Specify the CSV file path\n",
    "csv_file_path = \"POS Spliting Data\\\\y_train.csv\"\n",
    "\n",
    "# Write DataFrame to CSV file\n",
    "df.to_csv(csv_file_path, index=False)"
   ]
  },
  {
   "cell_type": "code",
   "execution_count": 24,
   "id": "1c5d3e6e",
   "metadata": {},
   "outputs": [],
   "source": [
    "# Convert the list of strings to a DataFrame\n",
    "df = pd.DataFrame(list(X_test), columns=['Data'])\n",
    "\n",
    "# Specify the CSV file path\n",
    "csv_file_path = \"POS Spliting Data\\\\X_test.csv\"\n",
    "\n",
    "# Write DataFrame to CSV file\n",
    "df.to_csv(csv_file_path, index=False)"
   ]
  },
  {
   "cell_type": "code",
   "execution_count": 25,
   "id": "a72735bf",
   "metadata": {},
   "outputs": [],
   "source": [
    "# Convert the list of strings to a DataFrame\n",
    "df = pd.DataFrame(list(y_test), columns=['Data'])\n",
    "\n",
    "# Specify the CSV file path\n",
    "csv_file_path = \"POS Spliting Data\\\\y_test.csv\"\n",
    "\n",
    "# Write DataFrame to CSV file\n",
    "df.to_csv(csv_file_path, index=False)"
   ]
  },
  {
   "cell_type": "code",
   "execution_count": 26,
   "id": "a4df0bbe",
   "metadata": {},
   "outputs": [],
   "source": [
    "# Convert the list of strings to a DataFrame\n",
    "df = pd.DataFrame(list(X_val), columns=['Data'])\n",
    "\n",
    "# Specify the CSV file path\n",
    "csv_file_path = \"POS Spliting Data\\\\X_val.csv\"\n",
    "\n",
    "# Write DataFrame to CSV file\n",
    "df.to_csv(csv_file_path, index=False)"
   ]
  },
  {
   "cell_type": "code",
   "execution_count": 27,
   "id": "09f85305",
   "metadata": {},
   "outputs": [],
   "source": [
    "# Convert the list of strings to a DataFrame\n",
    "df = pd.DataFrame(list(y_val), columns=['Data'])\n",
    "\n",
    "# Specify the CSV file path\n",
    "csv_file_path = \"POS Spliting Data\\\\y_val.csv\"\n",
    "\n",
    "# Write DataFrame to CSV file\n",
    "df.to_csv(csv_file_path, index=False)"
   ]
  },
  {
   "cell_type": "code",
   "execution_count": null,
   "id": "2602b383",
   "metadata": {},
   "outputs": [],
   "source": []
  }
 ],
 "metadata": {
  "kernelspec": {
   "display_name": "Python 3 (ipykernel)",
   "language": "python",
   "name": "python3"
  },
  "language_info": {
   "codemirror_mode": {
    "name": "ipython",
    "version": 3
   },
   "file_extension": ".py",
   "mimetype": "text/x-python",
   "name": "python",
   "nbconvert_exporter": "python",
   "pygments_lexer": "ipython3",
   "version": "3.11.5"
  }
 },
 "nbformat": 4,
 "nbformat_minor": 5
}
