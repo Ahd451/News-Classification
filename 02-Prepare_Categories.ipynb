{
 "cells": [
  {
   "cell_type": "code",
   "execution_count": 1,
   "id": "db367df6",
   "metadata": {},
   "outputs": [],
   "source": [
    "import pandas as pd\n",
    "import matplotlib.pyplot as plt\n",
    "import seaborn as sns\n",
    "import warnings\n",
    "# Ignore warnings\n",
    "warnings.filterwarnings(\"ignore\")"
   ]
  },
  {
   "cell_type": "code",
   "execution_count": 2,
   "id": "7cd2d462",
   "metadata": {},
   "outputs": [],
   "source": [
    "# lines = False ( default value )\n",
    "#          assumption is that the entire content of the JSON file represents a single JSON object.\n",
    "# lines = True\n",
    "#         each line in the JSON file is treated as a separate JSON object.\n",
    "data = pd.read_json('Cleaned_Data.json', lines=True)"
   ]
  },
  {
   "cell_type": "code",
   "execution_count": 3,
   "id": "0919d1da",
   "metadata": {},
   "outputs": [],
   "source": [
    "categories_to_keep = ['POLITICS', 'WELLNESS', 'ENTERTAINMENT', \n",
    "                      'TRAVEL', 'STYLE & BEAUTY' , 'QUEER VOICES' ,\n",
    "                      'FOOD & DRINK' ,'BUSINESS' , 'SPORTS']\n",
    "\n",
    "Categories_Map = {}\n",
    "\n",
    "for ele in data['category'].unique():\n",
    "    if ele in categories_to_keep:\n",
    "        Categories_Map.update({ele:ele})"
   ]
  },
  {
   "cell_type": "code",
   "execution_count": 4,
   "id": "f09f9619",
   "metadata": {},
   "outputs": [
    {
     "data": {
      "text/plain": [
       "42"
      ]
     },
     "execution_count": 4,
     "metadata": {},
     "output_type": "execute_result"
    }
   ],
   "source": [
    "data['category'].nunique()"
   ]
  },
  {
   "cell_type": "code",
   "execution_count": 5,
   "id": "f04ae9a2",
   "metadata": {},
   "outputs": [],
   "source": [
    "def Update_map(li,label):\n",
    "    for ele in li:\n",
    "        Categories_Map.update({ele:label})"
   ]
  },
  {
   "cell_type": "markdown",
   "id": "cd0850be",
   "metadata": {},
   "source": [
    "#################################################################################################"
   ]
  },
  {
   "cell_type": "code",
   "execution_count": 6,
   "id": "2233215b",
   "metadata": {},
   "outputs": [],
   "source": [
    "Update_map(['HEALTHY LIVING','IMPACT', 'WOMEN' , 'FIFTY' ] , 'OTHER1')"
   ]
  },
  {
   "cell_type": "code",
   "execution_count": 7,
   "id": "1bfe9adf",
   "metadata": {},
   "outputs": [],
   "source": [
    "Update_map([ 'ARTS & CULTURE' , 'ARTS' , 'CULTURE & ARTS', 'TECH' , 'LATINO VOICES' , 'MEDIA' , 'COMEDY' ] , 'OTHER2')"
   ]
  },
  {
   "cell_type": "code",
   "execution_count": 8,
   "id": "0ed3b88e",
   "metadata": {},
   "outputs": [],
   "source": [
    "Update_map(['BLACK VOICES' , 'U.S. NEWS' , 'CRIME' , 'WEIRD NEWS' , 'GOOD NEWS' ] , 'OTHER3')"
   ]
  },
  {
   "cell_type": "code",
   "execution_count": 9,
   "id": "bc56971c",
   "metadata": {},
   "outputs": [],
   "source": [
    "Update_map(['DIVORCE' , 'WEDDINGS' , 'ENVIRONMENT'  , 'HOME & LIVING' ] , 'OTHER4')"
   ]
  },
  {
   "cell_type": "code",
   "execution_count": 10,
   "id": "be34ee21",
   "metadata": {},
   "outputs": [],
   "source": [
    "Update_map(['MONEY' , 'EDUCATION' , 'COLLEGE' , 'STYLE' , 'TASTE' , 'SCIENCE' , 'GREEN'] , 'OTHER5')"
   ]
  },
  {
   "cell_type": "code",
   "execution_count": 11,
   "id": "9397a941",
   "metadata": {},
   "outputs": [],
   "source": [
    "Update_map(['PARENTING' , 'PARENTS'] , 'OTHER6')"
   ]
  },
  {
   "cell_type": "code",
   "execution_count": 12,
   "id": "c6875756",
   "metadata": {},
   "outputs": [],
   "source": [
    "Update_map(['RELIGION' , 'WORLDPOST' , 'WORLD NEWS' ,'THE WORLDPOST'] , 'OTHER7')"
   ]
  },
  {
   "cell_type": "markdown",
   "id": "94da555e",
   "metadata": {},
   "source": [
    "#################################################################################################"
   ]
  },
  {
   "cell_type": "code",
   "execution_count": 13,
   "id": "5f464ecc",
   "metadata": {},
   "outputs": [],
   "source": [
    "def Re_categorize(cat):\n",
    "    return Categories_Map[cat]"
   ]
  },
  {
   "cell_type": "code",
   "execution_count": 14,
   "id": "19bb7599",
   "metadata": {},
   "outputs": [],
   "source": [
    "data.loc[:, ('category')] = data.loc[:,('category')].apply(lambda x: Re_categorize(x))"
   ]
  },
  {
   "cell_type": "code",
   "execution_count": 15,
   "id": "1a724505",
   "metadata": {},
   "outputs": [
    {
     "data": {
      "text/plain": [
       "category\n",
       "POLITICS          35387\n",
       "WELLNESS          17867\n",
       "ENTERTAINMENT     17259\n",
       "TRAVEL             9840\n",
       "STYLE & BEAUTY     9281\n",
       "FOOD & DRINK       6333\n",
       "QUEER VOICES       6323\n",
       "BUSINESS           5955\n",
       "SPORTS             5069\n",
       "Name: count, dtype: int64"
      ]
     },
     "execution_count": 15,
     "metadata": {},
     "output_type": "execute_result"
    }
   ],
   "source": [
    "data[data['category'].isin(categories_to_keep)]['category'].value_counts()"
   ]
  },
  {
   "cell_type": "code",
   "execution_count": 16,
   "id": "caf41075",
   "metadata": {},
   "outputs": [
    {
     "data": {
      "text/plain": [
       "category\n",
       "OTHER2    15305\n",
       "OTHER1    14969\n",
       "OTHER3    13663\n",
       "OTHER5    13033\n",
       "OTHER6    12584\n",
       "OTHER4    12555\n",
       "OTHER7    12085\n",
       "Name: count, dtype: int64"
      ]
     },
     "execution_count": 16,
     "metadata": {},
     "output_type": "execute_result"
    }
   ],
   "source": [
    "data[~data['category'].isin(categories_to_keep)]['category'].value_counts()"
   ]
  },
  {
   "cell_type": "code",
   "execution_count": 17,
   "id": "9f65fc83",
   "metadata": {},
   "outputs": [],
   "source": [
    "data.to_json('Cleaned_Data.json', orient='records', lines=True)"
   ]
  }
 ],
 "metadata": {
  "kernelspec": {
   "display_name": "Python 3 (ipykernel)",
   "language": "python",
   "name": "python3"
  },
  "language_info": {
   "codemirror_mode": {
    "name": "ipython",
    "version": 3
   },
   "file_extension": ".py",
   "mimetype": "text/x-python",
   "name": "python",
   "nbconvert_exporter": "python",
   "pygments_lexer": "ipython3",
   "version": "3.11.5"
  }
 },
 "nbformat": 4,
 "nbformat_minor": 5
}
