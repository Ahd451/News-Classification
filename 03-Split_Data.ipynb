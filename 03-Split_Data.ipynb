{
 "cells": [
  {
   "cell_type": "code",
   "execution_count": 1,
   "id": "1d6a3791",
   "metadata": {},
   "outputs": [],
   "source": [
    "import pandas as pd\n",
    "import matplotlib.pyplot as plt\n",
    "import seaborn as sns\n",
    "from sklearn.model_selection import train_test_split\n",
    "import warnings\n",
    "# Ignore warnings\n",
    "warnings.filterwarnings(\"ignore\")"
   ]
  },
  {
   "cell_type": "code",
   "execution_count": 2,
   "id": "291ebd00",
   "metadata": {},
   "outputs": [],
   "source": [
    "# lines = False ( default value )\n",
    "#          assumption is that the entire content of the JSON file represents a single JSON object.\n",
    "# lines = True\n",
    "#         each line in the JSON file is treated as a separate JSON object.\n",
    "data = pd.read_json('Cleaned_Data.json', lines=True)"
   ]
  },
  {
   "cell_type": "code",
   "execution_count": 3,
   "id": "c3b04b54",
   "metadata": {},
   "outputs": [],
   "source": [
    "X_train_plus_valid, X_test, y_train_plus_valid, y_test= train_test_split(\n",
    "    data['headline'], data['category'], random_state=42, test_size = 0.2, stratify=data['category'])\n"
   ]
  },
  {
   "cell_type": "code",
   "execution_count": 4,
   "id": "96c8022d",
   "metadata": {},
   "outputs": [
    {
     "name": "stdout",
     "output_type": "stream",
     "text": [
      "(166006,)\n",
      "(166006,)\n",
      "(41502,)\n",
      "(41502,)\n"
     ]
    }
   ],
   "source": [
    "print(X_train_plus_valid.shape)\n",
    "print(y_train_plus_valid.shape)\n",
    "print(X_test.shape)\n",
    "print(y_test.shape)"
   ]
  },
  {
   "cell_type": "code",
   "execution_count": 5,
   "id": "b9bd6da7",
   "metadata": {},
   "outputs": [],
   "source": [
    "X_train, X_val, y_train, y_val = train_test_split(\n",
    "    X_train_plus_valid, y_train_plus_valid, random_state=42, test_size = 0.25,\n",
    "    stratify=y_train_plus_valid)"
   ]
  },
  {
   "cell_type": "code",
   "execution_count": 6,
   "id": "008b8c6f",
   "metadata": {},
   "outputs": [
    {
     "name": "stdout",
     "output_type": "stream",
     "text": [
      "(124504,)\n",
      "(124504,)\n",
      "(41502,)\n",
      "(41502,)\n"
     ]
    }
   ],
   "source": [
    "print(X_train.shape)\n",
    "print(y_train.shape)\n",
    "print(X_val.shape)\n",
    "print(y_val.shape)"
   ]
  },
  {
   "cell_type": "code",
   "execution_count": 7,
   "id": "b520d3d5",
   "metadata": {},
   "outputs": [],
   "source": [
    "categories_to_keep = ['POLITICS', 'WELLNESS', 'ENTERTAINMENT', \n",
    "                      'TRAVEL', 'STYLE & BEAUTY' , 'QUEER VOICES' ,\n",
    "                      'FOOD & DRINK' ,'BUSINESS' , 'SPORTS']\n",
    "\n",
    "def process_test_val(li):\n",
    "    templi = []\n",
    "    for label in li:\n",
    "        if label in categories_to_keep:\n",
    "            templi.append(label)\n",
    "        else:\n",
    "            templi.append('OTHER')\n",
    "    return pd.Series(templi)"
   ]
  },
  {
   "cell_type": "code",
   "execution_count": 8,
   "id": "86c384d6",
   "metadata": {},
   "outputs": [],
   "source": [
    "y_test = process_test_val(y_test)\n",
    "\n",
    "y_val = process_test_val(y_val)"
   ]
  },
  {
   "cell_type": "code",
   "execution_count": 9,
   "id": "64c81315",
   "metadata": {},
   "outputs": [],
   "source": [
    "# Convert the list of strings to a DataFrame\n",
    "df = pd.DataFrame(list(X_train), columns=['Data'])\n",
    "\n",
    "# Specify the CSV file path\n",
    "csv_file_path = \"Spliting Data\\\\X_train.csv\"\n",
    "\n",
    "# Write DataFrame to CSV file\n",
    "df.to_csv(csv_file_path, index=False)"
   ]
  },
  {
   "cell_type": "code",
   "execution_count": 10,
   "id": "9fbd94bc",
   "metadata": {},
   "outputs": [],
   "source": [
    "# Convert the list of strings to a DataFrame\n",
    "df = pd.DataFrame(list(y_train), columns=['Data'])\n",
    "\n",
    "# Specify the CSV file path\n",
    "csv_file_path = \"Spliting Data\\\\y_train.csv\"\n",
    "\n",
    "# Write DataFrame to CSV file\n",
    "df.to_csv(csv_file_path, index=False)"
   ]
  },
  {
   "cell_type": "code",
   "execution_count": 11,
   "id": "4b25b3d9",
   "metadata": {},
   "outputs": [],
   "source": [
    "# Convert the list of strings to a DataFrame\n",
    "df = pd.DataFrame(list(X_test), columns=['Data'])\n",
    "\n",
    "# Specify the CSV file path\n",
    "csv_file_path = \"Spliting Data\\\\X_test.csv\"\n",
    "\n",
    "# Write DataFrame to CSV file\n",
    "df.to_csv(csv_file_path, index=False)"
   ]
  },
  {
   "cell_type": "code",
   "execution_count": 12,
   "id": "421e42f4",
   "metadata": {},
   "outputs": [],
   "source": [
    "# Convert the list of strings to a DataFrame\n",
    "df = pd.DataFrame(list(y_test), columns=['Data'])\n",
    "\n",
    "# Specify the CSV file path\n",
    "csv_file_path = \"Spliting Data\\\\y_test.csv\"\n",
    "\n",
    "# Write DataFrame to CSV file\n",
    "df.to_csv(csv_file_path, index=False)"
   ]
  },
  {
   "cell_type": "code",
   "execution_count": 13,
   "id": "3faa4d55",
   "metadata": {},
   "outputs": [],
   "source": [
    "# Convert the list of strings to a DataFrame\n",
    "df = pd.DataFrame(list(X_val), columns=['Data'])\n",
    "\n",
    "# Specify the CSV file path\n",
    "csv_file_path = \"Spliting Data\\\\X_val.csv\"\n",
    "\n",
    "# Write DataFrame to CSV file\n",
    "df.to_csv(csv_file_path, index=False)"
   ]
  },
  {
   "cell_type": "code",
   "execution_count": 14,
   "id": "9194c0f2",
   "metadata": {},
   "outputs": [],
   "source": [
    "# Convert the list of strings to a DataFrame\n",
    "df = pd.DataFrame(list(y_val), columns=['Data'])\n",
    "\n",
    "# Specify the CSV file path\n",
    "csv_file_path = \"Spliting Data\\\\y_val.csv\"\n",
    "\n",
    "# Write DataFrame to CSV file\n",
    "df.to_csv(csv_file_path, index=False)"
   ]
  },
  {
   "cell_type": "code",
   "execution_count": null,
   "id": "a2ffd5c4",
   "metadata": {},
   "outputs": [],
   "source": []
  }
 ],
 "metadata": {
  "kernelspec": {
   "display_name": "Python 3 (ipykernel)",
   "language": "python",
   "name": "python3"
  },
  "language_info": {
   "codemirror_mode": {
    "name": "ipython",
    "version": 3
   },
   "file_extension": ".py",
   "mimetype": "text/x-python",
   "name": "python",
   "nbconvert_exporter": "python",
   "pygments_lexer": "ipython3",
   "version": "3.11.5"
  }
 },
 "nbformat": 4,
 "nbformat_minor": 5
}
