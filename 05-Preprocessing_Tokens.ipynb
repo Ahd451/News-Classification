{
 "cells": [
  {
   "cell_type": "code",
   "execution_count": 1,
   "id": "f3af3e36",
   "metadata": {},
   "outputs": [],
   "source": [
    "import pandas as pd\n",
    "import nltk\n",
    "from nltk.stem import WordNetLemmatizer\n",
    "from nltk.tokenize import word_tokenize\n",
    "from nltk.corpus import stopwords\n",
    "import warnings\n",
    "# Ignore warnings\n",
    "warnings.filterwarnings(\"ignore\")"
   ]
  },
  {
   "cell_type": "code",
   "execution_count": 2,
   "id": "f80ce945",
   "metadata": {},
   "outputs": [],
   "source": [
    "X_train = pd.read_csv ('..\\\\Spliting Data\\\\X_train.csv')['Data']\n",
    "y_train = pd.read_csv ('..\\\\Spliting Data\\\\y_train.csv')['Data']\n",
    "\n",
    "X_test = pd.read_csv  ('..\\\\Spliting Data\\\\X_test.csv')['Data']\n",
    "y_test = pd.read_csv ('..\\\\Spliting Data\\\\y_test.csv')['Data']\n",
    "\n",
    "X_val = pd.read_csv   ('..\\\\Spliting Data\\\\X_val.csv')['Data']\n",
    "y_val = pd.read_csv ('..\\\\Spliting Data\\\\y_val.csv')['Data']"
   ]
  },
  {
   "cell_type": "code",
   "execution_count": 3,
   "id": "23a3f577",
   "metadata": {},
   "outputs": [
    {
     "name": "stdout",
     "output_type": "stream",
     "text": [
      "(269153,)\n",
      "(269153,)\n",
      "-----------------\n",
      "(41502,)\n",
      "(41502,)\n",
      "-----------------\n",
      "(41502,)\n",
      "(41502,)\n"
     ]
    }
   ],
   "source": [
    "print(X_train.shape)\n",
    "print(y_train.shape)\n",
    "print('-----------------')\n",
    "print(X_test.shape)\n",
    "print(y_test.shape)\n",
    "print('-----------------')\n",
    "print(X_val.shape)\n",
    "print(y_val.shape)"
   ]
  },
  {
   "cell_type": "code",
   "execution_count": 4,
   "id": "73ec70ba",
   "metadata": {},
   "outputs": [],
   "source": [
    "lemmatizer = WordNetLemmatizer()\n",
    "\n",
    "stop_words = set(stopwords.words('english'))\n",
    "\n",
    "def preprocess(text):\n",
    "    text = text.lower()  # Convert to lowercase\n",
    "    \n",
    "    tokens = nltk.word_tokenize(text)  # Tokenize the text into word tokens\n",
    "    \n",
    "    tokens = [token for token in tokens if token.isalpha()]  # Remove punctuation and numbers\n",
    "    \n",
    "    tokens = [token for token in tokens if token not in stop_words]  # Remove stopwords\n",
    "    \n",
    "    tokens = [lemmatizer.lemmatize(token) for token in tokens]  # Lemmatization\n",
    "    \n",
    "    return ' '.join(tokens)"
   ]
  },
  {
   "cell_type": "code",
   "execution_count": 5,
   "id": "b839bd2b",
   "metadata": {},
   "outputs": [],
   "source": [
    "X_train = [preprocess(text) for text in X_train]"
   ]
  },
  {
   "cell_type": "code",
   "execution_count": 6,
   "id": "b6e88bcf",
   "metadata": {},
   "outputs": [],
   "source": [
    "X_test = [preprocess(text) for text in X_test]"
   ]
  },
  {
   "cell_type": "code",
   "execution_count": 7,
   "id": "6b06e570",
   "metadata": {},
   "outputs": [],
   "source": [
    "X_val = [preprocess(text) for text in X_val]"
   ]
  },
  {
   "cell_type": "code",
   "execution_count": 8,
   "id": "97c6604f",
   "metadata": {},
   "outputs": [],
   "source": [
    "train_dataframe = pd.DataFrame ({'headline': X_train , 'category' :y_train })"
   ]
  },
  {
   "cell_type": "code",
   "execution_count": 9,
   "id": "a48d0e4f",
   "metadata": {},
   "outputs": [],
   "source": [
    "test_dataframe = pd.DataFrame ({'headline': X_test , 'category' :y_test })"
   ]
  },
  {
   "cell_type": "code",
   "execution_count": 10,
   "id": "d9b98ab5",
   "metadata": {},
   "outputs": [],
   "source": [
    "val_dataframe = pd.DataFrame ({'headline': X_val , 'category' :y_val })"
   ]
  },
  {
   "cell_type": "code",
   "execution_count": 11,
   "id": "8d8164fe",
   "metadata": {},
   "outputs": [
    {
     "name": "stdout",
     "output_type": "stream",
     "text": [
      "Number of duplicate headlines in train =  5181\n",
      "Number of duplicate headlines in val   =  183\n",
      "Number of duplicate headlines in val   =  149\n"
     ]
    }
   ],
   "source": [
    "print(\"Number of duplicate headlines in train = \", train_dataframe.duplicated(['headline'], keep = 'last').sum())\n",
    "print(\"Number of duplicate headlines in val   = \", test_dataframe.duplicated(['headline'], keep = 'last').sum())\n",
    "print(\"Number of duplicate headlines in val   = \", val_dataframe.duplicated(['headline'], keep = 'last').sum())"
   ]
  },
  {
   "cell_type": "code",
   "execution_count": 12,
   "id": "fc8e8980",
   "metadata": {},
   "outputs": [],
   "source": [
    "#Removing duplicates\n",
    "#inplace=True: This argument modifies the DataFrame in place, meaning it doesn't\n",
    "#return a new DataFrame but rather changes the original DataFrame (data) directly.\n",
    "\n",
    "train_dataframe.drop_duplicates(['headline'], keep = 'last', inplace = True)\n",
    "test_dataframe.drop_duplicates(['headline'], keep = 'last', inplace = True)\n",
    "val_dataframe.drop_duplicates(['headline'], keep = 'last', inplace = True)"
   ]
  },
  {
   "cell_type": "code",
   "execution_count": 13,
   "id": "aeb72ebf",
   "metadata": {},
   "outputs": [
    {
     "name": "stdout",
     "output_type": "stream",
     "text": [
      "Total number of rows after removing duplicates in train =  263972\n",
      "Total number of rows after removing duplicates in test  =  41319\n",
      "Total number of rows after removing duplicates in val   =  41353\n"
     ]
    }
   ],
   "source": [
    "print(\"Total number of rows after removing duplicates in train = \",train_dataframe.shape[0])\n",
    "print(\"Total number of rows after removing duplicates in test  = \",test_dataframe.shape[0])\n",
    "print(\"Total number of rows after removing duplicates in val   = \",val_dataframe.shape[0])"
   ]
  },
  {
   "cell_type": "code",
   "execution_count": 14,
   "id": "1ef67ad2",
   "metadata": {},
   "outputs": [
    {
     "name": "stdout",
     "output_type": "stream",
     "text": [
      "headline    0\n",
      "category    0\n",
      "dtype: int64\n",
      "headline    0\n",
      "category    0\n",
      "dtype: int64\n",
      "headline    0\n",
      "category    0\n",
      "dtype: int64\n"
     ]
    }
   ],
   "source": [
    "print(train_dataframe.isnull().sum())\n",
    "print(test_dataframe.isnull().sum())\n",
    "print(val_dataframe.isnull().sum())"
   ]
  },
  {
   "cell_type": "code",
   "execution_count": 15,
   "id": "827060f5",
   "metadata": {},
   "outputs": [
    {
     "data": {
      "text/html": [
       "<div>\n",
       "<style scoped>\n",
       "    .dataframe tbody tr th:only-of-type {\n",
       "        vertical-align: middle;\n",
       "    }\n",
       "\n",
       "    .dataframe tbody tr th {\n",
       "        vertical-align: top;\n",
       "    }\n",
       "\n",
       "    .dataframe thead th {\n",
       "        text-align: right;\n",
       "    }\n",
       "</style>\n",
       "<table border=\"1\" class=\"dataframe\">\n",
       "  <thead>\n",
       "    <tr style=\"text-align: right;\">\n",
       "      <th></th>\n",
       "      <th>headline</th>\n",
       "      <th>category</th>\n",
       "    </tr>\n",
       "  </thead>\n",
       "  <tbody>\n",
       "    <tr>\n",
       "      <th>267558</th>\n",
       "      <td></td>\n",
       "      <td>OTHER6</td>\n",
       "    </tr>\n",
       "  </tbody>\n",
       "</table>\n",
       "</div>"
      ],
      "text/plain": [
       "       headline category\n",
       "267558            OTHER6"
      ]
     },
     "execution_count": 15,
     "metadata": {},
     "output_type": "execute_result"
    }
   ],
   "source": [
    "#Blank headlines\n",
    "train_dataframe[train_dataframe['headline'] == '']"
   ]
  },
  {
   "cell_type": "code",
   "execution_count": 16,
   "id": "c35df492",
   "metadata": {},
   "outputs": [
    {
     "data": {
      "text/html": [
       "<div>\n",
       "<style scoped>\n",
       "    .dataframe tbody tr th:only-of-type {\n",
       "        vertical-align: middle;\n",
       "    }\n",
       "\n",
       "    .dataframe tbody tr th {\n",
       "        vertical-align: top;\n",
       "    }\n",
       "\n",
       "    .dataframe thead th {\n",
       "        text-align: right;\n",
       "    }\n",
       "</style>\n",
       "<table border=\"1\" class=\"dataframe\">\n",
       "  <thead>\n",
       "    <tr style=\"text-align: right;\">\n",
       "      <th></th>\n",
       "      <th>headline</th>\n",
       "      <th>category</th>\n",
       "    </tr>\n",
       "  </thead>\n",
       "  <tbody>\n",
       "    <tr>\n",
       "      <th>40259</th>\n",
       "      <td></td>\n",
       "      <td>WELLNESS</td>\n",
       "    </tr>\n",
       "  </tbody>\n",
       "</table>\n",
       "</div>"
      ],
      "text/plain": [
       "      headline  category\n",
       "40259           WELLNESS"
      ]
     },
     "execution_count": 16,
     "metadata": {},
     "output_type": "execute_result"
    }
   ],
   "source": [
    "test_dataframe[test_dataframe['headline'] == '']"
   ]
  },
  {
   "cell_type": "code",
   "execution_count": 17,
   "id": "00ca50b9",
   "metadata": {},
   "outputs": [
    {
     "data": {
      "text/html": [
       "<div>\n",
       "<style scoped>\n",
       "    .dataframe tbody tr th:only-of-type {\n",
       "        vertical-align: middle;\n",
       "    }\n",
       "\n",
       "    .dataframe tbody tr th {\n",
       "        vertical-align: top;\n",
       "    }\n",
       "\n",
       "    .dataframe thead th {\n",
       "        text-align: right;\n",
       "    }\n",
       "</style>\n",
       "<table border=\"1\" class=\"dataframe\">\n",
       "  <thead>\n",
       "    <tr style=\"text-align: right;\">\n",
       "      <th></th>\n",
       "      <th>headline</th>\n",
       "      <th>category</th>\n",
       "    </tr>\n",
       "  </thead>\n",
       "  <tbody>\n",
       "    <tr>\n",
       "      <th>37914</th>\n",
       "      <td></td>\n",
       "      <td>WELLNESS</td>\n",
       "    </tr>\n",
       "  </tbody>\n",
       "</table>\n",
       "</div>"
      ],
      "text/plain": [
       "      headline  category\n",
       "37914           WELLNESS"
      ]
     },
     "execution_count": 17,
     "metadata": {},
     "output_type": "execute_result"
    }
   ],
   "source": [
    "val_dataframe[val_dataframe['headline'] == '']"
   ]
  },
  {
   "cell_type": "code",
   "execution_count": 18,
   "id": "31509879",
   "metadata": {},
   "outputs": [],
   "source": [
    "train_dataframe = train_dataframe[~(train_dataframe['headline'] == '')]\n",
    "test_dataframe = test_dataframe[~(test_dataframe['headline'] == '')]\n",
    "val_dataframe = val_dataframe[~(val_dataframe['headline'] == '')]"
   ]
  },
  {
   "cell_type": "code",
   "execution_count": 19,
   "id": "109715ae",
   "metadata": {},
   "outputs": [],
   "source": [
    "X_train = train_dataframe['headline']\n",
    "y_train = train_dataframe['category']\n",
    "\n",
    "X_test =  test_dataframe['headline']\n",
    "y_test =  test_dataframe['category']\n",
    "\n",
    "X_val =  val_dataframe['headline']\n",
    "y_val =  val_dataframe['category']"
   ]
  },
  {
   "cell_type": "code",
   "execution_count": 20,
   "id": "f8949e55",
   "metadata": {},
   "outputs": [],
   "source": [
    "# Convert the list of strings to a DataFrame\n",
    "df = pd.DataFrame(list(X_train), columns=['Data'])\n",
    "\n",
    "# Specify the CSV file path\n",
    "csv_file_path = \"Tokens Spliting Data\\\\X_train.csv\"\n",
    "\n",
    "# Write DataFrame to CSV file\n",
    "df.to_csv(csv_file_path, index=False)"
   ]
  },
  {
   "cell_type": "code",
   "execution_count": 21,
   "id": "e05e146c",
   "metadata": {},
   "outputs": [],
   "source": [
    "# Convert the list of strings to a DataFrame\n",
    "df = pd.DataFrame(list(y_train), columns=['Data'])\n",
    "\n",
    "# Specify the CSV file path\n",
    "csv_file_path = \"Tokens Spliting Data\\\\y_train.csv\"\n",
    "\n",
    "# Write DataFrame to CSV file\n",
    "df.to_csv(csv_file_path, index=False)"
   ]
  },
  {
   "cell_type": "code",
   "execution_count": 22,
   "id": "1c5d3e6e",
   "metadata": {},
   "outputs": [],
   "source": [
    "# Convert the list of strings to a DataFrame\n",
    "df = pd.DataFrame(list(X_test), columns=['Data'])\n",
    "\n",
    "# Specify the CSV file path\n",
    "csv_file_path = \"Tokens Spliting Data\\\\X_test.csv\"\n",
    "\n",
    "# Write DataFrame to CSV file\n",
    "df.to_csv(csv_file_path, index=False)"
   ]
  },
  {
   "cell_type": "code",
   "execution_count": 23,
   "id": "a72735bf",
   "metadata": {},
   "outputs": [],
   "source": [
    "# Convert the list of strings to a DataFrame\n",
    "df = pd.DataFrame(list(y_test), columns=['Data'])\n",
    "\n",
    "# Specify the CSV file path\n",
    "csv_file_path = \"Tokens Spliting Data\\\\y_test.csv\"\n",
    "\n",
    "# Write DataFrame to CSV file\n",
    "df.to_csv(csv_file_path, index=False)"
   ]
  },
  {
   "cell_type": "code",
   "execution_count": 24,
   "id": "a4df0bbe",
   "metadata": {},
   "outputs": [],
   "source": [
    "# Convert the list of strings to a DataFrame\n",
    "df = pd.DataFrame(list(X_val), columns=['Data'])\n",
    "\n",
    "# Specify the CSV file path\n",
    "csv_file_path = \"Tokens Spliting Data\\\\X_val.csv\"\n",
    "\n",
    "# Write DataFrame to CSV file\n",
    "df.to_csv(csv_file_path, index=False)"
   ]
  },
  {
   "cell_type": "code",
   "execution_count": 25,
   "id": "09f85305",
   "metadata": {},
   "outputs": [],
   "source": [
    "# Convert the list of strings to a DataFrame\n",
    "df = pd.DataFrame(list(y_val), columns=['Data'])\n",
    "\n",
    "# Specify the CSV file path\n",
    "csv_file_path = \"Tokens Spliting Data\\\\y_val.csv\"\n",
    "\n",
    "# Write DataFrame to CSV file\n",
    "df.to_csv(csv_file_path, index=False)"
   ]
  }
 ],
 "metadata": {
  "kernelspec": {
   "display_name": "Python 3 (ipykernel)",
   "language": "python",
   "name": "python3"
  },
  "language_info": {
   "codemirror_mode": {
    "name": "ipython",
    "version": 3
   },
   "file_extension": ".py",
   "mimetype": "text/x-python",
   "name": "python",
   "nbconvert_exporter": "python",
   "pygments_lexer": "ipython3",
   "version": "3.11.5"
  }
 },
 "nbformat": 4,
 "nbformat_minor": 5
}
