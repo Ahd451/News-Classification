{
 "cells": [
  {
   "cell_type": "code",
   "execution_count": 1,
   "id": "0218f8e6",
   "metadata": {},
   "outputs": [],
   "source": [
    "import pandas as pd\n",
    "import numpy as np\n",
    "from sklearn.naive_bayes import MultinomialNB\n",
    "from sklearn.pipeline import Pipeline\n",
    "from sklearn.feature_extraction.text import TfidfVectorizer , CountVectorizer\n",
    "from sklearn.svm import SVC\n",
    "from sklearn.linear_model import LogisticRegression\n",
    "from sklearn.feature_selection import SelectPercentile,f_classif\n",
    "from sklearn.ensemble import RandomForestClassifier , GradientBoostingClassifier\n",
    "from sklearn.tree import DecisionTreeClassifier\n",
    "from sklearn.neighbors import KNeighborsClassifier\n",
    "from sklearn.preprocessing import StandardScaler\n",
    "import joblib\n",
    "import warnings\n",
    "# Ignore warnings\n",
    "warnings.filterwarnings(\"ignore\")"
   ]
  },
  {
   "cell_type": "code",
   "execution_count": 2,
   "id": "4e727688",
   "metadata": {},
   "outputs": [],
   "source": [
    "X_train = pd.read_csv ('Tokens Spliting Data\\\\X_train.csv') ['Data']\n",
    "\n",
    "y_train = pd.read_csv ('Tokens Spliting Data\\\\y_train.csv') ['Data']"
   ]
  },
  {
   "cell_type": "code",
   "execution_count": 3,
   "id": "7421e35a",
   "metadata": {},
   "outputs": [],
   "source": [
    "def Model_Fit(model, file_name ):\n",
    "    global X_train\n",
    "    global y_train\n",
    "    \n",
    "    pipeline = Pipeline([\n",
    "        ('tfidf', TfidfVectorizer(ngram_range=(1,3))),  # Replace with your desired vectorizer\n",
    "        ('select_percentile', SelectPercentile(f_classif, percentile=25)),\n",
    "        ('model', model)\n",
    "    ])\n",
    "\n",
    "    pipeline.fit(X_train, y_train)\n",
    "\n",
    "    joblib.dump( pipeline, file_name )\n"
   ]
  },
  {
   "cell_type": "code",
   "execution_count": 4,
   "id": "9d6dc691",
   "metadata": {},
   "outputs": [
    {
     "name": "stdout",
     "output_type": "stream",
     "text": [
      "Naive Bayes is done.\n"
     ]
    }
   ],
   "source": [
    "NB_Model =  MultinomialNB()\n",
    "Model_Fit(NB_Model , 'Tokens_naive_bayes_pipeline.joblib' )\n",
    "print (\"Naive Bayes is done.\")"
   ]
  },
  {
   "cell_type": "code",
   "execution_count": 5,
   "id": "6f13d870",
   "metadata": {},
   "outputs": [
    {
     "name": "stdout",
     "output_type": "stream",
     "text": [
      "Logisitic regression is done.\n"
     ]
    }
   ],
   "source": [
    "Log_reg_Model = LogisticRegression()\n",
    "Model_Fit (Log_reg_Model , 'Tokens_logistic_regression_pipeline.joblib' )\n",
    "print (\"Logisitic regression is done.\")"
   ]
  },
  {
   "cell_type": "code",
   "execution_count": 6,
   "id": "f3f93f5a",
   "metadata": {},
   "outputs": [
    {
     "name": "stdout",
     "output_type": "stream",
     "text": [
      "KNeighbors is done.\n"
     ]
    }
   ],
   "source": [
    "KNN_Model = KNeighborsClassifier(n_neighbors=7)\n",
    "Model_Fit (KNN_Model , 'NER_knn_pipeline.joblib')\n",
    "print (\"KNeighbors is done.\")"
   ]
  },
  {
   "cell_type": "code",
   "execution_count": 7,
   "id": "3d961a85",
   "metadata": {},
   "outputs": [
    {
     "name": "stdout",
     "output_type": "stream",
     "text": [
      "SVM is done.\n"
     ]
    }
   ],
   "source": [
    "SVM_Model = SVC()\n",
    "Model_Fit ( SVM_Model , 'NER_svm_pipeline.joblib' )\n",
    "print (\"SVM is done.\")"
   ]
  },
  {
   "cell_type": "code",
   "execution_count": 8,
   "id": "62945968",
   "metadata": {},
   "outputs": [
    {
     "name": "stdout",
     "output_type": "stream",
     "text": [
      "Random Forest is done.\n"
     ]
    }
   ],
   "source": [
    "RN_Model = RandomForestClassifier(n_estimators=200, random_state=42)\n",
    "Model_Fit ( RN_Model , 'NER_random_forest_pipeline.joblib' )\n",
    "print (\"Random Forest is done.\")"
   ]
  },
  {
   "cell_type": "code",
   "execution_count": 9,
   "id": "64577915",
   "metadata": {},
   "outputs": [
    {
     "name": "stdout",
     "output_type": "stream",
     "text": [
      "Decision Tree is done.\n"
     ]
    }
   ],
   "source": [
    "DT_Model = DecisionTreeClassifier()\n",
    "Model_Fit ( DT_Model , 'NER_DT_pipeline.joblib' )\n",
    "print (\"Decision Tree is done.\")"
   ]
  },
  {
   "cell_type": "code",
   "execution_count": 10,
   "id": "de2168a7",
   "metadata": {},
   "outputs": [
    {
     "name": "stdout",
     "output_type": "stream",
     "text": [
      "Gradient Boosting is done.\n"
     ]
    }
   ],
   "source": [
    "GB_Model = GradientBoostingClassifier()\n",
    "Model_Fit ( GB_Model , 'NER_gb_pipeline.joblib' )\n",
    "print (\"Gradient Boosting is done.\")"
   ]
  },
  {
   "cell_type": "code",
   "execution_count": null,
   "id": "b2a73972",
   "metadata": {},
   "outputs": [],
   "source": []
  }
 ],
 "metadata": {
  "kernelspec": {
   "display_name": "Python 3 (ipykernel)",
   "language": "python",
   "name": "python3"
  },
  "language_info": {
   "codemirror_mode": {
    "name": "ipython",
    "version": 3
   },
   "file_extension": ".py",
   "mimetype": "text/x-python",
   "name": "python",
   "nbconvert_exporter": "python",
   "pygments_lexer": "ipython3",
   "version": "3.11.5"
  }
 },
 "nbformat": 4,
 "nbformat_minor": 5
}
