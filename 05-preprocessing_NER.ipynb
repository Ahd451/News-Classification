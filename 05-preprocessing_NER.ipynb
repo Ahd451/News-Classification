{
 "cells": [
  {
   "cell_type": "code",
   "execution_count": 1,
   "id": "e5bc5ff7",
   "metadata": {},
   "outputs": [],
   "source": [
    "import pandas as pd\n",
    "import nltk\n",
    "from nltk.stem import WordNetLemmatizer\n",
    "from nltk import word_tokenize, pos_tag, ne_chunk\n",
    "from nltk.corpus import stopwords\n",
    "\n",
    "import warnings\n",
    "# Ignore warnings\n",
    "warnings.filterwarnings(\"ignore\")"
   ]
  },
  {
   "cell_type": "code",
   "execution_count": 2,
   "id": "60bd9c6c",
   "metadata": {},
   "outputs": [],
   "source": [
    "X_train = pd.read_csv ('..\\\\Spliting Data\\\\X_train.csv')['Data']\n",
    "y_train = pd.read_csv ('..\\\\Spliting Data\\\\y_train.csv')['Data']\n",
    "\n",
    "X_test = pd.read_csv  ('..\\\\Spliting Data\\\\X_test.csv')['Data']\n",
    "y_test = pd.read_csv ('..\\\\Spliting Data\\\\y_test.csv')['Data']\n",
    "\n",
    "X_val = pd.read_csv   ('..\\\\Spliting Data\\\\X_val.csv')['Data']\n",
    "y_val = pd.read_csv ('..\\\\Spliting Data\\\\y_val.csv')['Data']"
   ]
  },
  {
   "cell_type": "code",
   "execution_count": 3,
   "id": "32beacb2",
   "metadata": {},
   "outputs": [
    {
     "name": "stdout",
     "output_type": "stream",
     "text": [
      "(269153,)\n",
      "(269153,)\n",
      "-----------------\n",
      "(41502,)\n",
      "(41502,)\n",
      "-----------------\n",
      "(41502,)\n",
      "(41502,)\n"
     ]
    }
   ],
   "source": [
    "print(X_train.shape)\n",
    "print(y_train.shape)\n",
    "print('-----------------')\n",
    "print(X_test.shape)\n",
    "print(y_test.shape)\n",
    "print('-----------------')\n",
    "print(X_val.shape)\n",
    "print(y_val.shape)"
   ]
  },
  {
   "cell_type": "code",
   "execution_count": 4,
   "id": "54598e49",
   "metadata": {},
   "outputs": [],
   "source": [
    "\n",
    "stop_words = set(stopwords.words('english'))\n",
    "\n",
    "def preprocess(text):\n",
    "    \n",
    "    tokens = nltk.word_tokenize(text)  # Tokenize the text into word tokens\n",
    "    \n",
    "    tokens = [token for token in tokens if token.isalpha()]  # Remove punctuation and numbers\n",
    "    \n",
    "    POS = pos_tag(tokens)\n",
    "    \n",
    "    NER_tree = ne_chunk(POS)\n",
    "    \n",
    "    ner = [] \n",
    "    \n",
    "    for entity in NER_tree:\n",
    "        if isinstance(entity, nltk.Tree):\n",
    "            word = entity.leaves()[0][0].lower()\n",
    "            if word not in stop_words:\n",
    "                ner.append(word)\n",
    "    \n",
    "    \n",
    "    return ' '.join(ner)"
   ]
  },
  {
   "cell_type": "code",
   "execution_count": 5,
   "id": "ba8f9e4a",
   "metadata": {},
   "outputs": [],
   "source": [
    "# X_train = [preprocess(text) for text in X_train]"
   ]
  },
  {
   "cell_type": "code",
   "execution_count": 6,
   "id": "5ca5eeca",
   "metadata": {},
   "outputs": [],
   "source": [
    "X_test = [preprocess(text) for text in X_test]"
   ]
  },
  {
   "cell_type": "code",
   "execution_count": 7,
   "id": "369e895c",
   "metadata": {},
   "outputs": [],
   "source": [
    "X_val = [preprocess(text) for text in X_val]"
   ]
  },
  {
   "cell_type": "code",
   "execution_count": 8,
   "id": "5c6e00e0",
   "metadata": {},
   "outputs": [],
   "source": [
    "# train_dataframe = pd.DataFrame ({'headline': X_train , 'category' :y_train })"
   ]
  },
  {
   "cell_type": "code",
   "execution_count": 9,
   "id": "0000eb9e",
   "metadata": {},
   "outputs": [],
   "source": [
    "val_dataframe = pd.DataFrame ({'headline': X_val , 'category' :y_val })"
   ]
  },
  {
   "cell_type": "code",
   "execution_count": 10,
   "id": "b21aca4c",
   "metadata": {},
   "outputs": [],
   "source": [
    "test_dataframe = pd.DataFrame ({'headline': X_test , 'category' :y_test })"
   ]
  },
  {
   "cell_type": "code",
   "execution_count": 11,
   "id": "b019589f",
   "metadata": {},
   "outputs": [],
   "source": [
    "# print(\"Number of duplicate headlines in train = \", train_dataframe.duplicated(['headline'], keep = 'last').sum())\n",
    "# print(\"Number of duplicate headlines in val   = \", test_dataframe.duplicated(['headline'], keep = 'last').sum())\n",
    "# print(\"Number of duplicate headlines in val   = \", val_dataframe.duplicated(['headline'], keep = 'last').sum())"
   ]
  },
  {
   "cell_type": "code",
   "execution_count": 14,
   "id": "aee8a7d4",
   "metadata": {},
   "outputs": [],
   "source": [
    "#Removing duplicates\n",
    "#inplace=True: This argument modifies the DataFrame in place, meaning it doesn't\n",
    "#return a new DataFrame but rather changes the original DataFrame (data) directly.\n",
    "\n",
    "# train_dataframe.drop_duplicates(['headline'], keep = 'last', inplace = True)\n",
    "# test_dataframe.drop_duplicates(['headline'], keep = 'last', inplace = True)\n",
    "# val_dataframe.drop_duplicates(['headline'], keep = 'last', inplace = True)"
   ]
  },
  {
   "cell_type": "code",
   "execution_count": 15,
   "id": "0f5005fc",
   "metadata": {},
   "outputs": [
    {
     "name": "stdout",
     "output_type": "stream",
     "text": [
      "Total number of rows after removing duplicates in test  =  41502\n",
      "Total number of rows after removing duplicates in val   =  41502\n"
     ]
    }
   ],
   "source": [
    "# print(\"Total number of rows after removing duplicates in train = \",train_dataframe.shape[0])\n",
    "print(\"Total number of rows after removing duplicates in test  = \",test_dataframe.shape[0])\n",
    "print(\"Total number of rows after removing duplicates in val   = \",val_dataframe.shape[0])"
   ]
  },
  {
   "cell_type": "code",
   "execution_count": 16,
   "id": "c493309f",
   "metadata": {},
   "outputs": [
    {
     "name": "stdout",
     "output_type": "stream",
     "text": [
      "headline    0\n",
      "category    0\n",
      "dtype: int64\n",
      "headline    0\n",
      "category    0\n",
      "dtype: int64\n"
     ]
    }
   ],
   "source": [
    "# print(train_dataframe.isnull().sum())\n",
    "print(test_dataframe.isnull().sum())\n",
    "print(val_dataframe.isnull().sum())"
   ]
  },
  {
   "cell_type": "code",
   "execution_count": 17,
   "id": "1af26a5d",
   "metadata": {},
   "outputs": [],
   "source": [
    "#Blank headlines\n",
    "# train_dataframe[train_dataframe['headline'] == '']"
   ]
  },
  {
   "cell_type": "code",
   "execution_count": 18,
   "id": "d605ed6d",
   "metadata": {},
   "outputs": [
    {
     "data": {
      "text/html": [
       "<div>\n",
       "<style scoped>\n",
       "    .dataframe tbody tr th:only-of-type {\n",
       "        vertical-align: middle;\n",
       "    }\n",
       "\n",
       "    .dataframe tbody tr th {\n",
       "        vertical-align: top;\n",
       "    }\n",
       "\n",
       "    .dataframe thead th {\n",
       "        text-align: right;\n",
       "    }\n",
       "</style>\n",
       "<table border=\"1\" class=\"dataframe\">\n",
       "  <thead>\n",
       "    <tr style=\"text-align: right;\">\n",
       "      <th></th>\n",
       "      <th>headline</th>\n",
       "      <th>category</th>\n",
       "    </tr>\n",
       "  </thead>\n",
       "  <tbody>\n",
       "    <tr>\n",
       "      <th>3</th>\n",
       "      <td></td>\n",
       "      <td>WELLNESS</td>\n",
       "    </tr>\n",
       "    <tr>\n",
       "      <th>33</th>\n",
       "      <td></td>\n",
       "      <td>OTHER</td>\n",
       "    </tr>\n",
       "    <tr>\n",
       "      <th>36</th>\n",
       "      <td></td>\n",
       "      <td>QUEER VOICES</td>\n",
       "    </tr>\n",
       "    <tr>\n",
       "      <th>48</th>\n",
       "      <td></td>\n",
       "      <td>OTHER</td>\n",
       "    </tr>\n",
       "    <tr>\n",
       "      <th>53</th>\n",
       "      <td></td>\n",
       "      <td>WELLNESS</td>\n",
       "    </tr>\n",
       "    <tr>\n",
       "      <th>...</th>\n",
       "      <td>...</td>\n",
       "      <td>...</td>\n",
       "    </tr>\n",
       "    <tr>\n",
       "      <th>41483</th>\n",
       "      <td></td>\n",
       "      <td>OTHER</td>\n",
       "    </tr>\n",
       "    <tr>\n",
       "      <th>41486</th>\n",
       "      <td></td>\n",
       "      <td>WELLNESS</td>\n",
       "    </tr>\n",
       "    <tr>\n",
       "      <th>41488</th>\n",
       "      <td></td>\n",
       "      <td>OTHER</td>\n",
       "    </tr>\n",
       "    <tr>\n",
       "      <th>41489</th>\n",
       "      <td></td>\n",
       "      <td>OTHER</td>\n",
       "    </tr>\n",
       "    <tr>\n",
       "      <th>41496</th>\n",
       "      <td></td>\n",
       "      <td>OTHER</td>\n",
       "    </tr>\n",
       "  </tbody>\n",
       "</table>\n",
       "<p>3575 rows × 2 columns</p>\n",
       "</div>"
      ],
      "text/plain": [
       "      headline      category\n",
       "3                   WELLNESS\n",
       "33                     OTHER\n",
       "36              QUEER VOICES\n",
       "48                     OTHER\n",
       "53                  WELLNESS\n",
       "...        ...           ...\n",
       "41483                  OTHER\n",
       "41486               WELLNESS\n",
       "41488                  OTHER\n",
       "41489                  OTHER\n",
       "41496                  OTHER\n",
       "\n",
       "[3575 rows x 2 columns]"
      ]
     },
     "execution_count": 18,
     "metadata": {},
     "output_type": "execute_result"
    }
   ],
   "source": [
    "#Blank headlines\n",
    "test_dataframe[test_dataframe['headline'] == '']"
   ]
  },
  {
   "cell_type": "code",
   "execution_count": 19,
   "id": "31beb35d",
   "metadata": {},
   "outputs": [
    {
     "data": {
      "text/html": [
       "<div>\n",
       "<style scoped>\n",
       "    .dataframe tbody tr th:only-of-type {\n",
       "        vertical-align: middle;\n",
       "    }\n",
       "\n",
       "    .dataframe tbody tr th {\n",
       "        vertical-align: top;\n",
       "    }\n",
       "\n",
       "    .dataframe thead th {\n",
       "        text-align: right;\n",
       "    }\n",
       "</style>\n",
       "<table border=\"1\" class=\"dataframe\">\n",
       "  <thead>\n",
       "    <tr style=\"text-align: right;\">\n",
       "      <th></th>\n",
       "      <th>headline</th>\n",
       "      <th>category</th>\n",
       "    </tr>\n",
       "  </thead>\n",
       "  <tbody>\n",
       "    <tr>\n",
       "      <th>4</th>\n",
       "      <td></td>\n",
       "      <td>OTHER</td>\n",
       "    </tr>\n",
       "    <tr>\n",
       "      <th>25</th>\n",
       "      <td></td>\n",
       "      <td>POLITICS</td>\n",
       "    </tr>\n",
       "    <tr>\n",
       "      <th>26</th>\n",
       "      <td></td>\n",
       "      <td>OTHER</td>\n",
       "    </tr>\n",
       "    <tr>\n",
       "      <th>31</th>\n",
       "      <td></td>\n",
       "      <td>WELLNESS</td>\n",
       "    </tr>\n",
       "    <tr>\n",
       "      <th>36</th>\n",
       "      <td></td>\n",
       "      <td>OTHER</td>\n",
       "    </tr>\n",
       "    <tr>\n",
       "      <th>...</th>\n",
       "      <td>...</td>\n",
       "      <td>...</td>\n",
       "    </tr>\n",
       "    <tr>\n",
       "      <th>41420</th>\n",
       "      <td></td>\n",
       "      <td>FOOD &amp; DRINK</td>\n",
       "    </tr>\n",
       "    <tr>\n",
       "      <th>41445</th>\n",
       "      <td></td>\n",
       "      <td>OTHER</td>\n",
       "    </tr>\n",
       "    <tr>\n",
       "      <th>41474</th>\n",
       "      <td></td>\n",
       "      <td>WELLNESS</td>\n",
       "    </tr>\n",
       "    <tr>\n",
       "      <th>41486</th>\n",
       "      <td></td>\n",
       "      <td>OTHER</td>\n",
       "    </tr>\n",
       "    <tr>\n",
       "      <th>41494</th>\n",
       "      <td></td>\n",
       "      <td>ENTERTAINMENT</td>\n",
       "    </tr>\n",
       "  </tbody>\n",
       "</table>\n",
       "<p>3680 rows × 2 columns</p>\n",
       "</div>"
      ],
      "text/plain": [
       "      headline       category\n",
       "4                       OTHER\n",
       "25                   POLITICS\n",
       "26                      OTHER\n",
       "31                   WELLNESS\n",
       "36                      OTHER\n",
       "...        ...            ...\n",
       "41420            FOOD & DRINK\n",
       "41445                   OTHER\n",
       "41474                WELLNESS\n",
       "41486                   OTHER\n",
       "41494           ENTERTAINMENT\n",
       "\n",
       "[3680 rows x 2 columns]"
      ]
     },
     "execution_count": 19,
     "metadata": {},
     "output_type": "execute_result"
    }
   ],
   "source": [
    "#Blank headlines\n",
    "val_dataframe[val_dataframe['headline'] == '']"
   ]
  },
  {
   "cell_type": "code",
   "execution_count": 20,
   "id": "731abc37",
   "metadata": {},
   "outputs": [],
   "source": [
    "# train_dataframe = train_dataframe[~(train_dataframe['headline'] == '')]\n",
    "test_dataframe = test_dataframe[~(test_dataframe['headline'] == '')]\n",
    "val_dataframe = val_dataframe[~(val_dataframe['headline'] == '')]"
   ]
  },
  {
   "cell_type": "code",
   "execution_count": 21,
   "id": "a5f16dae",
   "metadata": {},
   "outputs": [],
   "source": [
    "# X_train = train_dataframe['headline']\n",
    "# y_train = train_dataframe['category']\n",
    "\n",
    "X_test =  test_dataframe['headline']\n",
    "y_test =  test_dataframe['category']\n",
    "\n",
    "X_val =  val_dataframe['headline']\n",
    "y_val =  val_dataframe['category']"
   ]
  },
  {
   "cell_type": "code",
   "execution_count": 22,
   "id": "14090294",
   "metadata": {},
   "outputs": [],
   "source": [
    "# # Convert the list of strings to a DataFrame\n",
    "# df = pd.DataFrame(list(X_train), columns=['Data'])\n",
    "\n",
    "# # Specify the CSV file path\n",
    "# csv_file_path = \"NER Spliting Data\\\\X_train.csv\"\n",
    "\n",
    "# # Write DataFrame to CSV file\n",
    "# df.to_csv(csv_file_path, index=False)"
   ]
  },
  {
   "cell_type": "code",
   "execution_count": 23,
   "id": "75a1d948",
   "metadata": {},
   "outputs": [],
   "source": [
    "# # Convert the list of strings to a DataFrame\n",
    "# df = pd.DataFrame(list(y_train), columns=['Data'])\n",
    "\n",
    "# # Specify the CSV file path\n",
    "# csv_file_path = \"NER Spliting Data\\\\y_train.csv\"\n",
    "\n",
    "# # Write DataFrame to CSV file\n",
    "# df.to_csv(csv_file_path, index=False)"
   ]
  },
  {
   "cell_type": "code",
   "execution_count": 24,
   "id": "0e590304",
   "metadata": {},
   "outputs": [],
   "source": [
    "# Convert the list of strings to a DataFrame\n",
    "df = pd.DataFrame(list(X_test), columns=['Data'])\n",
    "\n",
    "# Specify the CSV file path\n",
    "csv_file_path = \"NER Spliting Data\\\\X_test.csv\"\n",
    "\n",
    "# Write DataFrame to CSV file\n",
    "df.to_csv(csv_file_path, index=False)"
   ]
  },
  {
   "cell_type": "code",
   "execution_count": 25,
   "id": "a2619236",
   "metadata": {},
   "outputs": [],
   "source": [
    "# Convert the list of strings to a DataFrame\n",
    "df = pd.DataFrame(list(y_test), columns=['Data'])\n",
    "\n",
    "# Specify the CSV file path\n",
    "csv_file_path = \"NER Spliting Data\\\\y_test.csv\"\n",
    "\n",
    "# Write DataFrame to CSV file\n",
    "df.to_csv(csv_file_path, index=False)"
   ]
  },
  {
   "cell_type": "code",
   "execution_count": 26,
   "id": "f2a7d795",
   "metadata": {},
   "outputs": [],
   "source": [
    "# Convert the list of strings to a DataFrame\n",
    "df = pd.DataFrame(list(X_val), columns=['Data'])\n",
    "\n",
    "# Specify the CSV file path\n",
    "csv_file_path = \"NER Spliting Data\\\\X_val.csv\"\n",
    "\n",
    "# Write DataFrame to CSV file\n",
    "df.to_csv(csv_file_path, index=False)"
   ]
  },
  {
   "cell_type": "code",
   "execution_count": 27,
   "id": "1db0e9a1",
   "metadata": {},
   "outputs": [],
   "source": [
    "# Convert the list of strings to a DataFrame\n",
    "df = pd.DataFrame(list(y_val), columns=['Data'])\n",
    "\n",
    "# Specify the CSV file path\n",
    "csv_file_path = \"NER Spliting Data\\\\y_val.csv\"\n",
    "\n",
    "# Write DataFrame to CSV file\n",
    "df.to_csv(csv_file_path, index=False)"
   ]
  },
  {
   "cell_type": "code",
   "execution_count": null,
   "id": "05e83b30",
   "metadata": {},
   "outputs": [],
   "source": []
  },
  {
   "cell_type": "code",
   "execution_count": null,
   "id": "0dba462d",
   "metadata": {},
   "outputs": [],
   "source": []
  }
 ],
 "metadata": {
  "kernelspec": {
   "display_name": "Python 3 (ipykernel)",
   "language": "python",
   "name": "python3"
  },
  "language_info": {
   "codemirror_mode": {
    "name": "ipython",
    "version": 3
   },
   "file_extension": ".py",
   "mimetype": "text/x-python",
   "name": "python",
   "nbconvert_exporter": "python",
   "pygments_lexer": "ipython3",
   "version": "3.11.5"
  }
 },
 "nbformat": 4,
 "nbformat_minor": 5
}
